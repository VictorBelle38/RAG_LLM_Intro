{
 "cells": [
  {
   "cell_type": "code",
   "execution_count": 17,
   "metadata": {},
   "outputs": [
    {
     "name": "stderr",
     "output_type": "stream",
     "text": [
      "c:\\Users\\Victor Bellé\\Desktop\\Projetos Python\\RAG_LLM_Intro\\.venv\\Lib\\site-packages\\tqdm\\auto.py:21: TqdmWarning: IProgress not found. Please update jupyter and ipywidgets. See https://ipywidgets.readthedocs.io/en/stable/user_install.html\n",
      "  from .autonotebook import tqdm as notebook_tqdm\n"
     ]
    }
   ],
   "source": [
    "import os\n",
    "from dotenv import load_dotenv, find_dotenv\n",
    "from langchain_cohere import CohereEmbeddings\n",
    "from langchain_community.document_loaders import TextLoader# Permite carregar arquivos\n",
    "from langchain_text_splitters import CharacterTextSplitter\n",
    "from langchain_pinecone import PineconeVectorStore\n",
    "from langchain.memory import ConversationBufferMemory\n",
    "from langchain_groq import ChatGroq\n",
    "from langchain import hub"
   ]
  },
  {
   "cell_type": "code",
   "execution_count": 26,
   "metadata": {},
   "outputs": [],
   "source": [
    "load_dotenv(find_dotenv())\n",
    "COHERE_API_KEY =os.getenv(\"COHERE_API_KEY\")\n",
    "PINECONE_API_KEY =os.getenv(\"PINECONE_API_KEY\")\n",
    "GROQ_API_KEY = os.getenv(\"GROQ_API_KEY\")"
   ]
  },
  {
   "cell_type": "code",
   "execution_count": 29,
   "metadata": {},
   "outputs": [
    {
     "name": "stderr",
     "output_type": "stream",
     "text": [
      "<>:3: SyntaxWarning: invalid escape sequence '\\m'\n",
      "<>:3: SyntaxWarning: invalid escape sequence '\\m'\n",
      "C:\\Users\\Victor Bellé\\AppData\\Local\\Temp\\ipykernel_29204\\944228328.py:3: SyntaxWarning: invalid escape sequence '\\m'\n",
      "  loader = TextLoader(\"data\\mediublog.txt\")\n"
     ]
    }
   ],
   "source": [
    "\n",
    "loader = TextLoader(\"data\\mediublog.txt\")\n",
    "documents = loader.load()"
   ]
  },
  {
   "cell_type": "code",
   "execution_count": 30,
   "metadata": {},
   "outputs": [
    {
     "name": "stdout",
     "output_type": "stream",
     "text": [
      "Total de partes criadas: 2\n"
     ]
    }
   ],
   "source": [
    "from langchain_text_splitters import CharacterTextSplitter\n",
    "\n",
    "text_splitter = CharacterTextSplitter(chunk_size=1000, chunk_overlap=0)\n",
    "docs = text_splitter.split_documents(documents)\n",
    "print(f\"Total de partes criadas: {len(docs)}\")\n"
   ]
  },
  {
   "cell_type": "code",
   "execution_count": 32,
   "metadata": {},
   "outputs": [],
   "source": [
    "from langchain_cohere import CohereEmbeddings\n",
    "from langchain_pinecone import PineconeVectorStore\n",
    "\n",
    "embeddings = CohereEmbeddings(model=\"embed-english-v3.0\", cohere_api_key=COHERE_API_KEY)\n",
    "index_name = \"rag-test\"\n",
    "\n",
    "vectorstore_from_docs = PineconeVectorStore.from_documents(\n",
    "    docs, index_name=index_name, embedding=embeddings\n",
    ")"
   ]
  },
  {
   "cell_type": "code",
   "execution_count": 34,
   "metadata": {},
   "outputs": [
    {
     "name": "stdout",
     "output_type": "stream",
     "text": [
      "Fatiamento do documento em menores chunks \n"
     ]
    }
   ],
   "source": [
    "print(\"Fatiamento do documento em menores chunks \")\n",
    "\n",
    "text_splitter = CharacterTextSplitter(\n",
    "    chunk_size =1000,\n",
    "    chunk_overlap = 0\n",
    ")\n",
    "docs = text_splitter.split_documents(documents)"
   ]
  },
  {
   "cell_type": "code",
   "execution_count": 36,
   "metadata": {},
   "outputs": [],
   "source": [
    "vectorstore_from_docs = PineconeVectorStore.from_documents(\n",
    "    docs,\n",
    "    index_name=index_name,\n",
    "    embedding=embeddings\n",
    ")"
   ]
  },
  {
   "cell_type": "code",
   "execution_count": 37,
   "metadata": {},
   "outputs": [],
   "source": [
    "vectorstore = PineconeVectorStore(\n",
    "    index_name=index_name,\n",
    "    embedding=embeddings\n",
    ")"
   ]
  },
  {
   "cell_type": "code",
   "execution_count": 39,
   "metadata": {},
   "outputs": [
    {
     "data": {
      "text/plain": [
       "[Document(id='8642cd93-54a2-43fe-910f-700d22f93ee3', metadata={'source': 'data\\\\mediublog.txt'}, page_content='In recent months, weâ€™ve witnessed an explosion of interest in multi-agent systems powered by LLM.\\n\\nThe excitement surrounding these systems stems from their impressive ability to decompose complex tasks and work collaboratively to address complex problems.\\n\\nHowever, as developers rush to adopt and deploy MAS-based solutions, a critical aspect remains under-discussed: security.\\n\\nMulti-agent systems introduce unique security challenges that go beyond those of single LLMs. By design, a multi-agent system consists of multiple LLM-powered agents interacting with each other, making autonomous decisions, accessing external data and tools, and possibly generating/executing code. All these aspects introduced expanded attack surfaces.\\n\\nIn this blog, letâ€™s explore the security landscape of LLM-powered multi-agent systems through a practical lens. We aim to answer three questions:')]"
      ]
     },
     "execution_count": 39,
     "metadata": {},
     "output_type": "execute_result"
    }
   ],
   "source": [
    "query = \"What is Vector Store?\"\n",
    "vectorstore.similarity_search(query, k=1)"
   ]
  },
  {
   "cell_type": "code",
   "execution_count": 42,
   "metadata": {},
   "outputs": [],
   "source": [
    "llm = ChatGroq(\n",
    "    model = \"Gemma2-9b-It\", # MODELO DE LLM UTILIZADO\n",
    "    groq_api_key = GROQ_API_KEY, # CHAVE DE API DO GROQ\n",
    "    temperature = 0.1, # TEMPERATURA DO LLM\n",
    ")"
   ]
  },
  {
   "cell_type": "markdown",
   "metadata": {},
   "source": [
    "### ** Carregar um prompt \"padrão\" via langchain hub **\n"
   ]
  },
  {
   "cell_type": "code",
   "execution_count": 43,
   "metadata": {},
   "outputs": [
    {
     "name": "stderr",
     "output_type": "stream",
     "text": [
      "c:\\Users\\Victor Bellé\\Desktop\\Projetos Python\\RAG_LLM_Intro\\.venv\\Lib\\site-packages\\langsmith\\client.py:278: LangSmithMissingAPIKeyWarning: API key must be provided when using hosted LangSmith API\n",
      "  warnings.warn(\n"
     ]
    }
   ],
   "source": [
    "from langchain.chains.combine_documents import create_stuff_documents_chain\n",
    "retrieval_qa_chat_prompt = hub.pull(\"langchain-ai/retrieval-qa-chat\")\n",
    "combine_docs_chain   = create_stuff_documents_chain(\n",
    "    llm, retrieval_qa_chat_prompt\n",
    ")"
   ]
  },
  {
   "cell_type": "code",
   "execution_count": 46,
   "metadata": {},
   "outputs": [],
   "source": [
    "from langchain.chains import create_retrieval_chain\n",
    "qa = create_retrieval_chain(\n",
    "    vectorstore.as_retriever(),\n",
    "    combine_docs_chain\n",
    ")"
   ]
  },
  {
   "cell_type": "code",
   "execution_count": 48,
   "metadata": {},
   "outputs": [
    {
     "name": "stdout",
     "output_type": "stream",
     "text": [
      "Multi-agent systems are inherently vulnerable to cybersecurity attacks because:\n",
      "\n",
      "* **They are composed of multiple LLM-powered agents:** This means there are more points of potential vulnerability compared to a single LLM.\n",
      "* **Agents interact with each other:**  This interaction creates opportunities for malicious agents to influence or manipulate other agents.\n",
      "* **Agents make autonomous decisions:**  This autonomy can be exploited if an agent is compromised, as it may make decisions that are harmful to the system or its users.\n",
      "* **Agents access external data and tools:** This expands the attack surface, as vulnerabilities in external systems can be leveraged to attack the multi-agent system.\n",
      "* **Agents may generate and execute code:** This introduces the risk of code injection attacks, where malicious code is inserted into the system. \n",
      "\n",
      "\n",
      "All these factors combine to create a more complex and vulnerable security landscape compared to single LLM systems. \n",
      "\n"
     ]
    }
   ],
   "source": [
    "res = qa.invoke({\"input\": \"Why are multi-agent systems inherently vulnerable to cybersecurity attacks?\"})\n",
    "print(res['answer'])"
   ]
  }
 ],
 "metadata": {
  "kernelspec": {
   "display_name": ".venv",
   "language": "python",
   "name": "python3"
  },
  "language_info": {
   "codemirror_mode": {
    "name": "ipython",
    "version": 3
   },
   "file_extension": ".py",
   "mimetype": "text/x-python",
   "name": "python",
   "nbconvert_exporter": "python",
   "pygments_lexer": "ipython3",
   "version": "3.13.2"
  }
 },
 "nbformat": 4,
 "nbformat_minor": 2
}
